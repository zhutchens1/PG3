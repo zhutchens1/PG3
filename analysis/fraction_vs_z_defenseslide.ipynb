{
 "cells": [
  {
   "cell_type": "code",
   "execution_count": 1,
   "id": "dbac8b20-c599-4135-92fc-874d29b199fc",
   "metadata": {},
   "outputs": [],
   "source": [
    "import pandas as pd\n",
    "import numpy as np\n",
    "import matplotlib.pyplot as plt\n",
    "from scipy.optimize import curve_fit\n",
    "from scipy.stats import binned_statistic\n",
    "import sys; sys.path.insert(0, '/srv/one/zhutchen/paper3/codes/')\n",
    "from survey_volume import solid_angle, integrate_volume, comoving_volume, comoving_volume_shell\n",
    "import pickle\n",
    "\n",
    "from astropy.cosmology import LambdaCDM\n",
    "cosmo = LambdaCDM(70.,0.3,0.7)\n",
    "\n",
    "def bin_bootstrap(vals):\n",
    "    nbs = 5000\n",
    "    data = np.random.choice(vals, size=(len(vals),5000))\n",
    "    return np.std(np.median(data,axis=0))\n",
    "\n",
    "mad = lambda xx: np.median(np.abs(xx-np.median(xx)))\n",
    "def bin_bootstrap_mad(vals):\n",
    "    nbs = 5000\n",
    "    data = np.random.choice(vals, size=(len(vals),5000))\n",
    "    return np.std([mad(row) for row in data])"
   ]
  },
  {
   "cell_type": "code",
   "execution_count": 3,
   "id": "d16745ab-0ba5-4d78-868d-60989961e4ef",
   "metadata": {},
   "outputs": [],
   "source": [
    "data = pd.read_hdf(\"../data/zou/xmmservs_laduma_merged.hdf5\")"
   ]
  },
  {
   "cell_type": "code",
   "execution_count": 15,
   "id": "acac8a6b-9a40-4d27-9802-3b9041c120d2",
   "metadata": {},
   "outputs": [
    {
     "data": {
      "text/html": [
       "<div>\n",
       "<style scoped>\n",
       "    .dataframe tbody tr th:only-of-type {\n",
       "        vertical-align: middle;\n",
       "    }\n",
       "\n",
       "    .dataframe tbody tr th {\n",
       "        vertical-align: top;\n",
       "    }\n",
       "\n",
       "    .dataframe thead th {\n",
       "        text-align: right;\n",
       "    }\n",
       "</style>\n",
       "<table border=\"1\" class=\"dataframe\">\n",
       "  <thead>\n",
       "    <tr style=\"text-align: right;\">\n",
       "      <th></th>\n",
       "      <th>zphot</th>\n",
       "      <th>zphotcorr</th>\n",
       "      <th>zspec</th>\n",
       "      <th>combinedzspec</th>\n",
       "      <th>bestoverallredshift</th>\n",
       "    </tr>\n",
       "    <tr>\n",
       "      <th>Tractor_ID</th>\n",
       "      <th></th>\n",
       "      <th></th>\n",
       "      <th></th>\n",
       "      <th></th>\n",
       "      <th></th>\n",
       "    </tr>\n",
       "  </thead>\n",
       "  <tbody>\n",
       "    <tr>\n",
       "      <th>25</th>\n",
       "      <td>-99.000</td>\n",
       "      <td>NaN</td>\n",
       "      <td>NaN</td>\n",
       "      <td>0.181950</td>\n",
       "      <td>0.181950</td>\n",
       "    </tr>\n",
       "    <tr>\n",
       "      <th>417</th>\n",
       "      <td>0.020</td>\n",
       "      <td>0.039804</td>\n",
       "      <td>0.104</td>\n",
       "      <td>0.103610</td>\n",
       "      <td>0.103610</td>\n",
       "    </tr>\n",
       "    <tr>\n",
       "      <th>563</th>\n",
       "      <td>0.094</td>\n",
       "      <td>0.146589</td>\n",
       "      <td>0.079</td>\n",
       "      <td>0.071860</td>\n",
       "      <td>0.071860</td>\n",
       "    </tr>\n",
       "    <tr>\n",
       "      <th>814</th>\n",
       "      <td>0.062</td>\n",
       "      <td>0.089906</td>\n",
       "      <td>0.069</td>\n",
       "      <td>0.069250</td>\n",
       "      <td>0.069250</td>\n",
       "    </tr>\n",
       "    <tr>\n",
       "      <th>913</th>\n",
       "      <td>0.072</td>\n",
       "      <td>0.132083</td>\n",
       "      <td>0.084</td>\n",
       "      <td>0.083856</td>\n",
       "      <td>0.083856</td>\n",
       "    </tr>\n",
       "    <tr>\n",
       "      <th>...</th>\n",
       "      <td>...</td>\n",
       "      <td>...</td>\n",
       "      <td>...</td>\n",
       "      <td>...</td>\n",
       "      <td>...</td>\n",
       "    </tr>\n",
       "    <tr>\n",
       "      <th>NaN</th>\n",
       "      <td>NaN</td>\n",
       "      <td>NaN</td>\n",
       "      <td>NaN</td>\n",
       "      <td>0.066850</td>\n",
       "      <td>0.066850</td>\n",
       "    </tr>\n",
       "    <tr>\n",
       "      <th>NaN</th>\n",
       "      <td>NaN</td>\n",
       "      <td>NaN</td>\n",
       "      <td>NaN</td>\n",
       "      <td>0.396330</td>\n",
       "      <td>0.396330</td>\n",
       "    </tr>\n",
       "    <tr>\n",
       "      <th>NaN</th>\n",
       "      <td>NaN</td>\n",
       "      <td>NaN</td>\n",
       "      <td>NaN</td>\n",
       "      <td>0.138352</td>\n",
       "      <td>0.138352</td>\n",
       "    </tr>\n",
       "    <tr>\n",
       "      <th>NaN</th>\n",
       "      <td>NaN</td>\n",
       "      <td>NaN</td>\n",
       "      <td>NaN</td>\n",
       "      <td>0.069401</td>\n",
       "      <td>0.069401</td>\n",
       "    </tr>\n",
       "    <tr>\n",
       "      <th>NaN</th>\n",
       "      <td>NaN</td>\n",
       "      <td>NaN</td>\n",
       "      <td>NaN</td>\n",
       "      <td>0.059788</td>\n",
       "      <td>0.059788</td>\n",
       "    </tr>\n",
       "  </tbody>\n",
       "</table>\n",
       "<p>813133 rows × 5 columns</p>\n",
       "</div>"
      ],
      "text/plain": [
       "             zphot  zphotcorr  zspec  combinedzspec  bestoverallredshift\n",
       "Tractor_ID                                                              \n",
       "25         -99.000        NaN    NaN       0.181950             0.181950\n",
       "417          0.020   0.039804  0.104       0.103610             0.103610\n",
       "563          0.094   0.146589  0.079       0.071860             0.071860\n",
       "814          0.062   0.089906  0.069       0.069250             0.069250\n",
       "913          0.072   0.132083  0.084       0.083856             0.083856\n",
       "...            ...        ...    ...            ...                  ...\n",
       "NaN            NaN        NaN    NaN       0.066850             0.066850\n",
       "NaN            NaN        NaN    NaN       0.396330             0.396330\n",
       "NaN            NaN        NaN    NaN       0.138352             0.138352\n",
       "NaN            NaN        NaN    NaN       0.069401             0.069401\n",
       "NaN            NaN        NaN    NaN       0.059788             0.059788\n",
       "\n",
       "[813133 rows x 5 columns]"
      ]
     },
     "execution_count": 15,
     "metadata": {},
     "output_type": "execute_result"
    }
   ],
   "source": [
    "data[['zphot','zphotcorr','zspec','combinedzspec','bestoverallredshift']]"
   ]
  },
  {
   "cell_type": "code",
   "execution_count": 16,
   "id": "b8ca8c18-11c2-4fca-8f55-cf8b6d9ce491",
   "metadata": {},
   "outputs": [],
   "source": [
    "data=data[~data.bestoverallredshift.isna()]"
   ]
  },
  {
   "cell_type": "code",
   "execution_count": 25,
   "id": "be8a7299-89dd-45a3-87a1-d33ad6c4da6a",
   "metadata": {},
   "outputs": [],
   "source": [
    "binz = np.arange(0,1,0.05)\n",
    "fraction=[]\n",
    "for ii in range(0,len(binz)-1):\n",
    "    ledge = binz[ii]\n",
    "    redge = binz[ii+1]\n",
    "    tmp = data[(data.bestoverallredshift>ledge) & (data.bestoverallredshift<redge)]\n",
    "    tmp2 = tmp[~tmp.combinedzspec.isna()]\n",
    "    fraction.append(len(tmp2)/len(tmp))"
   ]
  },
  {
   "cell_type": "code",
   "execution_count": 27,
   "id": "ec573d81-f830-4d41-afd6-204b7ef39a98",
   "metadata": {},
   "outputs": [
    {
     "data": {
      "text/plain": [
       "[0.1858974358974359,\n",
       " 0.15095137420718815,\n",
       " 0.1437488525794015,\n",
       " 0.08192210811858167,\n",
       " 0.20468262917025934,\n",
       " 0.2546070325729654,\n",
       " 0.25395174708818635,\n",
       " 0.2416243654822335,\n",
       " 0.12604931794333682,\n",
       " 0.20341750108837614,\n",
       " 0.24733112048084688,\n",
       " 0.11041358936484491,\n",
       " 0.11262946481313747,\n",
       " 0.17952908954366745,\n",
       " 0.1668420726799975,\n",
       " 0.14257950530035335,\n",
       " 0.0790707153046668,\n",
       " 0.1524835012156999,\n",
       " 0.05345561742548313]"
      ]
     },
     "execution_count": 27,
     "metadata": {},
     "output_type": "execute_result"
    }
   ],
   "source": [
    "fraction # <-- this is the fraction of spec-z's"
   ]
  },
  {
   "cell_type": "code",
   "execution_count": 33,
   "id": "4b894a2c-4279-411e-9b1d-eb3f56dd0268",
   "metadata": {},
   "outputs": [
    {
     "data": {
      "image/png": "[encoded data removed]",
      "text/plain": [
       "<Figure size 640x480 with 1 Axes>"
      ]
     },
     "metadata": {},
     "output_type": "display_data"
    }
   ],
   "source": [
    "plt.figure()\n",
    "plt.plot(0.5*(binz[1:]+binz[:-1]), np.array(fraction)*100, 'k.-', markersize=3)\n",
    "plt.xlabel(\"Redshift\",fontsize=12)\n",
    "plt.ylabel(\"Percentage of Spec-z\",fontsize=12)\n",
    "plt.ylim(0,100)\n",
    "plt.show()"
   ]
  },
  {
   "cell_type": "code",
   "execution_count": null,
   "id": "0b2d92a6-5093-4191-9565-4a44c3650605",
   "metadata": {},
   "outputs": [],
   "source": []
  }
 ],
 "metadata": {
  "kernelspec": {
   "display_name": "Python 3 (ipykernel)",
   "language": "python",
   "name": "python3"
  },
  "language_info": {
   "codemirror_mode": {
    "name": "ipython",
    "version": 3
   },
   "file_extension": ".py",
   "mimetype": "text/x-python",
   "name": "python",
   "nbconvert_exporter": "python",
   "pygments_lexer": "ipython3",
   "version": "3.10.9"
  }
 },
 "nbformat": 4,
 "nbformat_minor": 5
}
