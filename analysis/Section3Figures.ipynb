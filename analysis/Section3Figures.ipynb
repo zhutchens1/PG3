{
 "cells": [
  {
   "cell_type": "markdown",
   "id": "2cfde167-5022-4c33-817c-5eeec26086a9",
   "metadata": {},
   "source": [
    "# Libraries and Setup"
   ]
  },
  {
   "cell_type": "code",
   "execution_count": 10,
   "id": "7319bc95-6e2e-4765-95f8-24e66d85fc22",
   "metadata": {},
   "outputs": [],
   "source": [
    "import numpy as np\n",
    "import pandas as pd\n",
    "import matplotlib.pyplot as plt\n",
    "import os\n",
    "import time\n",
    "from copy import deepcopy\n",
    "from astropy.cosmology import LambdaCDM\n",
    "import sys; sys.path.insert(0,'/srv/one/zhutchen/paper3/codes/')\n",
    "from prob_g3groupfinder import prob_g3groupfinder_luminosity\n",
    "\n",
    "basepath = \"/srv/one/zhutchen/paper3/figures/\"\n",
    "figure4filename = \"figure4_rproj_vproj_cal.pdf\"\n",
    "figure5filename = \"figure5_gdrproj_gdvproj_cal.pdf\"\n",
    "photoz_fraction = 0.85\n",
    "prob_thresh = 0.6\n",
    "nominal_specz_error = 35 # km/s\n",
    "hubble_const = 70.\n",
    "omega_m = 0.3\n",
    "omega_de = 0.7\n",
    "\n",
    "ecovolume = 191958.08 / (hubble_const/100.)**3.\n",
    "gfargseco = dict({'volume':ecovolume,'rproj_fit_multiplier':3,'vproj_fit_multiplier':4,'vproj_fit_offset':200,'showplots':True,'saveplotspdf':True,\n",
    "       'gd_rproj_fit_multiplier':2, 'gd_vproj_fit_multiplier':4, 'gd_vproj_fit_offset':100,\\\n",
    "       'gd_fit_bins':np.arange(-24,-19,0.25), 'gd_rproj_fit_guess':[1e-5, 0.4],\\\n",
    "       'pfof_Pth' : prob_thresh, \\\n",
    "       'gd_vproj_fit_guess':[3e-5,4e-1], 'H0':hubble_const, 'Om0':omega_m, 'Ode0':omega_de,  'iterative_giant_only_groups':True})"
   ]
  },
  {
   "cell_type": "markdown",
   "id": "09736912-a2fc-4735-8f68-b74fc0107348",
   "metadata": {},
   "source": [
    "# Prepare input data (ECO w/ photo-z mix)"
   ]
  },
  {
   "cell_type": "code",
   "execution_count": 11,
   "id": "83cb2602-f422-4717-9dbe-47a53c458c4c",
   "metadata": {},
   "outputs": [],
   "source": [
    "eco = pd.read_csv(\"/srv/one/zhutchen/g3groupfinder/resolve_and_eco/ECOdata_G3catalog_luminosity.csv\")\n",
    "eco = eco[eco.absrmag<-17.33] # just to test\n",
    "eco.loc[:,'czerr'] = eco.cz*0 + 20\n",
    "ecophotz = pd.read_csv(\"/srv/one/hperk4/eco_resb_decals_photoz.csv\")\n",
    "ecophotz = ecophotz[ecophotz.name.str.startswith('ECO')].set_index('name')\n",
    "eco = pd.concat([eco,ecophotz],axis=1)\n",
    "eco.loc[:,'photo_z_corr'] = eco.photo_z_corr.fillna(value=eco.cz)\n",
    "eco.loc[:,'e_tab_corr'] = eco.e_tab_corr.fillna(value=eco.czerr)"
   ]
  },
  {
   "cell_type": "code",
   "execution_count": 12,
   "id": "7f3074f2-9295-4306-a906-a564436851b7",
   "metadata": {},
   "outputs": [],
   "source": [
    "degradedcz = deepcopy(eco.cz.to_numpy())\n",
    "zphot = deepcopy(eco.photo_z_corr.to_numpy())\n",
    "zphoterr = deepcopy(eco.e_tab_corr.to_numpy())\n",
    "degradedczerr = np.zeros_like(degradedcz)+35\n",
    "\n",
    "idx = np.random.choice(np.indices(degradedcz.shape)[0], size=int(photoz_fraction*len(degradedcz)), replace=False) # originally 0.85\n",
    "degradedcz[idx] = zphot[idx]\n",
    "degradedczerr[idx] = zphoterr[idx]\n",
    "\n",
    "\n",
    "sel = np.isnan(degradedcz)\n",
    "degradedcz[sel] = eco.cz.to_numpy()[sel]\n",
    "degradedczerr[sel] = nominal_specz_error\n",
    "\n",
    "eco.loc[:,'degradedcz'] = degradedcz\n",
    "eco.loc[:,'degradedczerr'] = degradedczerr"
   ]
  },
  {
   "cell_type": "markdown",
   "id": "6259abf8-21da-4613-90d1-56f5c32641ce",
   "metadata": {},
   "source": [
    "# Do group-finding"
   ]
  },
  {
   "cell_type": "code",
   "execution_count": 13,
   "id": "50975b08-2540-4338-9d4b-66ce22bce6c6",
   "metadata": {},
   "outputs": [
    {
     "name": "stdout",
     "output_type": "stream",
     "text": [
      "PFoF complete!\n",
      "Giant-only iterative combination 0 in progress...\n"
     ]
    },
    {
     "name": "stderr",
     "output_type": "stream",
     "text": [
      "/afs/cas.unc.edu/users/z/h/zhutchen/.conda/envs/astro2/lib/python3.10/site-packages/scipy/integrate/_quadpack_py.py:1225: IntegrationWarning: The maximum number of subdivisions (50) has been achieved.\n",
      "  If increasing the limit yields no improvement it is advised to analyze \n",
      "  the integrand in order to determine the difficulties.  If the position of a \n",
      "  local difficulty can be determined (singularity, discontinuity) one will \n",
      "  probably gain from splitting up the interval and calling the integrator \n",
      "  on the subranges.  Perhaps a special-purpose integrator should be used.\n",
      "  quad_r = quad(f, low, high, args=args, full_output=self.full_output,\n",
      "/afs/cas.unc.edu/users/z/h/zhutchen/.conda/envs/astro2/lib/python3.10/site-packages/scipy/integrate/_quadpack_py.py:1225: IntegrationWarning: The occurrence of roundoff error is detected, which prevents \n",
      "  the requested tolerance from being achieved.  The error may be \n",
      "  underestimated.\n",
      "  quad_r = quad(f, low, high, args=args, full_output=self.full_output,\n"
     ]
    },
    {
     "name": "stdout",
     "output_type": "stream",
     "text": [
      "Giant-only iterative combination 1 in progress...\n",
      "Giant-only iterative combination 2 in progress...\n",
      "Giant-only iterative combination complete.\n",
      "Finished associating dwarfs to giant-only groups.\n",
      "Beginning iterative combination...\n",
      "iteration 0 in progress...\n"
     ]
    },
    {
     "name": "stderr",
     "output_type": "stream",
     "text": [
      "/afs/cas.unc.edu/users/z/h/zhutchen/.conda/envs/astro2/lib/python3.10/site-packages/scipy/integrate/_quadpack_py.py:1225: IntegrationWarning: The maximum number of subdivisions (50) has been achieved.\n",
      "  If increasing the limit yields no improvement it is advised to analyze \n",
      "  the integrand in order to determine the difficulties.  If the position of a \n",
      "  local difficulty can be determined (singularity, discontinuity) one will \n",
      "  probably gain from splitting up the interval and calling the integrator \n",
      "  on the subranges.  Perhaps a special-purpose integrator should be used.\n",
      "  quad_r = quad(f, low, high, args=args, full_output=self.full_output,\n",
      "/afs/cas.unc.edu/users/z/h/zhutchen/.conda/envs/astro2/lib/python3.10/site-packages/scipy/integrate/_quadpack_py.py:1225: IntegrationWarning: The occurrence of roundoff error is detected, which prevents \n",
      "  the requested tolerance from being achieved.  The error may be \n",
      "  underestimated.\n",
      "  quad_r = quad(f, low, high, args=args, full_output=self.full_output,\n"
     ]
    },
    {
     "name": "stdout",
     "output_type": "stream",
     "text": [
      "iteration 1 in progress...\n",
      "Iterative combination complete.\n",
      "elapsed time was  754.3903720378876\n"
     ]
    }
   ],
   "source": [
    "t1 = time.time()\n",
    "cosmo=LambdaCDM(hubble_const, omega_m, omega_de)\n",
    "pg3out=prob_g3groupfinder_luminosity(eco.radeg, eco.dedeg, eco.degradedcz, eco.degradedczerr, eco.absrmag,-19.5,fof_bperp=0.07,fof_blos=1.1,**gfargseco)\n",
    "pg3grp=pg3out[0]\n",
    "eco.loc[:,'pg3grp'] = pg3grp\n",
    "print('elapsed time was ', time.time()-t1)"
   ]
  },
  {
   "cell_type": "code",
   "execution_count": 18,
   "id": "7f2cde07-f064-4e6c-9503-14c79a8dc1da",
   "metadata": {},
   "outputs": [
    {
     "data": {
      "text/plain": [
       "0"
      ]
     },
     "execution_count": 18,
     "metadata": {},
     "output_type": "execute_result"
    }
   ],
   "source": [
    "os.system(f\"mv ../figures/rproj_vproj_cal.pdf ../figures/{figure4filename}\")\n",
    "os.system(f\"mv ../figures/itercombboundaries.pdf ../figures/{figure5filename}\")"
   ]
  },
  {
   "cell_type": "markdown",
   "id": "53d25f35-ab81-4766-bf7e-37dcc48b390c",
   "metadata": {},
   "source": [
    "# Multiplicity Function"
   ]
  },
  {
   "cell_type": "code",
   "execution_count": null,
   "id": "9a73b820-2042-4180-a6d4-7305ad4c9bbc",
   "metadata": {},
   "outputs": [],
   "source": [
    "# bins = np.arange(0.5,300.5,1)\n",
    "# plt.figure()\n",
    "# plt.hist(fof.multiplicity_function(eco.g3grp_l.to_numpy(), return_by_galaxy=False), bins=bins, color='gray', histtype='stepfilled', label='G3 Groups', alpha=0.7)\n",
    "# plt.hist(fof.multiplicity_function(eco.pg3grp, return_by_galaxy=False), bins=bins, color='green', histtype='step', label='PG3 Groups', linewidth=3)\n",
    "# plt.yscale('log')\n",
    "# plt.xlabel(\"Group N\")\n",
    "# plt.xlim(0,50)\n",
    "# plt.legend(loc='best')\n",
    "# plt.show()"
   ]
  }
 ],
 "metadata": {
  "kernelspec": {
   "display_name": "Python 3 (ipykernel)",
   "language": "python",
   "name": "python3"
  },
  "language_info": {
   "codemirror_mode": {
    "name": "ipython",
    "version": 3
   },
   "file_extension": ".py",
   "mimetype": "text/x-python",
   "name": "python",
   "nbconvert_exporter": "python",
   "pygments_lexer": "ipython3",
   "version": "3.10.9"
  }
 },
 "nbformat": 4,
 "nbformat_minor": 5
}
